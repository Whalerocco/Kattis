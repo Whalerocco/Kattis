{
 "cells": [
  {
   "cell_type": "code",
   "execution_count": 13,
   "metadata": {},
   "outputs": [
    {
     "name": "stdout",
     "output_type": "stream",
     "text": [
      "490.33006378189094\n",
      "1280.6605\n",
      "1481.0405\n"
     ]
    }
   ],
   "source": [
    "S = 999+1+999\n",
    "L = 1\n",
    "T = 1000010\n",
    "C = 1\n",
    "g = 9.8\n",
    "\n",
    "t_comb = L/C\n",
    "a_mean = (T/(S+L)+T/S-2*g)/2\n",
    "dV = a_mean*t_comb\n",
    "print(dV)\n",
    "\n",
    "print(990.71050+156.881+133.069) # 1 and 2 and 3\n",
    "print(990.7105+490.330) #1 and 3"
   ]
  }
 ],
 "metadata": {
  "kernelspec": {
   "display_name": "base",
   "language": "python",
   "name": "python3"
  },
  "language_info": {
   "codemirror_mode": {
    "name": "ipython",
    "version": 3
   },
   "file_extension": ".py",
   "mimetype": "text/x-python",
   "name": "python",
   "nbconvert_exporter": "python",
   "pygments_lexer": "ipython3",
   "version": "3.11.4"
  },
  "orig_nbformat": 4
 },
 "nbformat": 4,
 "nbformat_minor": 2
}
